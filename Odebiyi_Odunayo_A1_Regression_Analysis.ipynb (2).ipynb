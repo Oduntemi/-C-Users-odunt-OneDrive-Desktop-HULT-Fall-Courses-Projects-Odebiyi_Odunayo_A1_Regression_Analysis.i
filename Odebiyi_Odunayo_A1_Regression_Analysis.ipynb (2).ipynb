{
 "cells": [
  {
   "cell_type": "markdown",
   "id": "d27bd8a6",
   "metadata": {},
   "source": [
    "Stage One - The necessary packages for regresssion model development are imported here. \n",
    "\n",
    "Dataset was viewed to see the components, missing data, data distribution. Missing values are replaced with the median, filling the missing values with the median did not significantly affect the data distribution. "
   ]
  },
  {
   "cell_type": "code",
   "execution_count": 1,
   "id": "0b9528fe",
   "metadata": {},
   "outputs": [],
   "source": [
    "import pandas as pd                                     # data science essentials\n",
    "import matplotlib.pyplot as plt                         # essential graphical output\n",
    "import seaborn as sns                                   # enhanced graphical output\n",
    "from sklearn.model_selection import train_test_split    # train-test split\n",
    "import numpy as np                                      # mathematical essentials\n",
    "from sklearn.linear_model import Lasso\n",
    "from sklearn import metrics\n",
    "from sklearn import linear_model\n",
    "from sklearn.neighbors import KNeighborsRegressor\n",
    "from sklearn.preprocessing import MinMaxScaler\n",
    "from sklearn.model_selection import RandomizedSearchCV\n",
    "from sklearn.preprocessing import StandardScaler\n",
    "from scipy import stats \n",
    "from scipy.stats import norm, skew, probplot\n",
    "from scipy.special import boxcox1p\n",
    "\n",
    "\n",
    "# setting pandas print options\n",
    "pd.set_option('display.max_rows', None)\n",
    "pd.set_option('display.max_columns', None)\n",
    "pd.set_option('display.width', None)\n",
    "#!pip install pandas_profiling\n",
    "%matplotlib inline"
   ]
  },
  {
   "cell_type": "code",
   "execution_count": 2,
   "id": "499ee5e5",
   "metadata": {},
   "outputs": [],
   "source": [
    "# reading the file into Python\n",
    "birthdataset = pd.read_excel('birthweight_low.xlsx')"
   ]
  },
  {
   "cell_type": "code",
   "execution_count": 3,
   "id": "9b94c6e4",
   "metadata": {},
   "outputs": [
    {
     "data": {
      "text/html": [
       "<div>\n",
       "<style scoped>\n",
       "    .dataframe tbody tr th:only-of-type {\n",
       "        vertical-align: middle;\n",
       "    }\n",
       "\n",
       "    .dataframe tbody tr th {\n",
       "        vertical-align: top;\n",
       "    }\n",
       "\n",
       "    .dataframe thead th {\n",
       "        text-align: right;\n",
       "    }\n",
       "</style>\n",
       "<table border=\"1\" class=\"dataframe\">\n",
       "  <thead>\n",
       "    <tr style=\"text-align: right;\">\n",
       "      <th></th>\n",
       "      <th>mage</th>\n",
       "      <th>meduc</th>\n",
       "      <th>monpre</th>\n",
       "      <th>npvis</th>\n",
       "      <th>fage</th>\n",
       "      <th>feduc</th>\n",
       "      <th>omaps</th>\n",
       "      <th>fmaps</th>\n",
       "      <th>cigs</th>\n",
       "      <th>drink</th>\n",
       "      <th>male</th>\n",
       "      <th>mwhte</th>\n",
       "      <th>mblck</th>\n",
       "      <th>moth</th>\n",
       "      <th>fwhte</th>\n",
       "      <th>fblck</th>\n",
       "      <th>foth</th>\n",
       "      <th>bwght</th>\n",
       "    </tr>\n",
       "  </thead>\n",
       "  <tbody>\n",
       "    <tr>\n",
       "      <th>0</th>\n",
       "      <td>69</td>\n",
       "      <td>NaN</td>\n",
       "      <td>5</td>\n",
       "      <td>2.0</td>\n",
       "      <td>62</td>\n",
       "      <td>NaN</td>\n",
       "      <td>4</td>\n",
       "      <td>7</td>\n",
       "      <td>23</td>\n",
       "      <td>9</td>\n",
       "      <td>1</td>\n",
       "      <td>0</td>\n",
       "      <td>1</td>\n",
       "      <td>0</td>\n",
       "      <td>0</td>\n",
       "      <td>1</td>\n",
       "      <td>0</td>\n",
       "      <td>697</td>\n",
       "    </tr>\n",
       "    <tr>\n",
       "      <th>1</th>\n",
       "      <td>68</td>\n",
       "      <td>12.0</td>\n",
       "      <td>3</td>\n",
       "      <td>10.0</td>\n",
       "      <td>61</td>\n",
       "      <td>11.0</td>\n",
       "      <td>4</td>\n",
       "      <td>6</td>\n",
       "      <td>25</td>\n",
       "      <td>11</td>\n",
       "      <td>1</td>\n",
       "      <td>1</td>\n",
       "      <td>0</td>\n",
       "      <td>0</td>\n",
       "      <td>1</td>\n",
       "      <td>0</td>\n",
       "      <td>0</td>\n",
       "      <td>1290</td>\n",
       "    </tr>\n",
       "    <tr>\n",
       "      <th>2</th>\n",
       "      <td>71</td>\n",
       "      <td>12.0</td>\n",
       "      <td>3</td>\n",
       "      <td>6.0</td>\n",
       "      <td>46</td>\n",
       "      <td>12.0</td>\n",
       "      <td>2</td>\n",
       "      <td>7</td>\n",
       "      <td>21</td>\n",
       "      <td>12</td>\n",
       "      <td>1</td>\n",
       "      <td>0</td>\n",
       "      <td>1</td>\n",
       "      <td>0</td>\n",
       "      <td>0</td>\n",
       "      <td>1</td>\n",
       "      <td>0</td>\n",
       "      <td>1490</td>\n",
       "    </tr>\n",
       "    <tr>\n",
       "      <th>3</th>\n",
       "      <td>59</td>\n",
       "      <td>16.0</td>\n",
       "      <td>1</td>\n",
       "      <td>8.0</td>\n",
       "      <td>48</td>\n",
       "      <td>16.0</td>\n",
       "      <td>7</td>\n",
       "      <td>8</td>\n",
       "      <td>21</td>\n",
       "      <td>10</td>\n",
       "      <td>0</td>\n",
       "      <td>0</td>\n",
       "      <td>0</td>\n",
       "      <td>1</td>\n",
       "      <td>0</td>\n",
       "      <td>0</td>\n",
       "      <td>1</td>\n",
       "      <td>1720</td>\n",
       "    </tr>\n",
       "    <tr>\n",
       "      <th>4</th>\n",
       "      <td>48</td>\n",
       "      <td>12.0</td>\n",
       "      <td>4</td>\n",
       "      <td>6.0</td>\n",
       "      <td>39</td>\n",
       "      <td>12.0</td>\n",
       "      <td>2</td>\n",
       "      <td>9</td>\n",
       "      <td>17</td>\n",
       "      <td>13</td>\n",
       "      <td>0</td>\n",
       "      <td>1</td>\n",
       "      <td>0</td>\n",
       "      <td>0</td>\n",
       "      <td>1</td>\n",
       "      <td>0</td>\n",
       "      <td>0</td>\n",
       "      <td>1956</td>\n",
       "    </tr>\n",
       "  </tbody>\n",
       "</table>\n",
       "</div>"
      ],
      "text/plain": [
       "   mage  meduc  monpre  npvis  fage  feduc  omaps  fmaps  cigs  drink  male  \\\n",
       "0    69    NaN       5    2.0    62    NaN      4      7    23      9     1   \n",
       "1    68   12.0       3   10.0    61   11.0      4      6    25     11     1   \n",
       "2    71   12.0       3    6.0    46   12.0      2      7    21     12     1   \n",
       "3    59   16.0       1    8.0    48   16.0      7      8    21     10     0   \n",
       "4    48   12.0       4    6.0    39   12.0      2      9    17     13     0   \n",
       "\n",
       "   mwhte  mblck  moth  fwhte  fblck  foth  bwght  \n",
       "0      0      1     0      0      1     0    697  \n",
       "1      1      0     0      1      0     0   1290  \n",
       "2      0      1     0      0      1     0   1490  \n",
       "3      0      0     1      0      0     1   1720  \n",
       "4      1      0     0      1      0     0   1956  "
      ]
     },
     "execution_count": 3,
     "metadata": {},
     "output_type": "execute_result"
    }
   ],
   "source": [
    "#checking the headers in the dataset\n",
    "birthdataset.head()"
   ]
  },
  {
   "cell_type": "code",
   "execution_count": 4,
   "id": "e5fab2cb",
   "metadata": {},
   "outputs": [
    {
     "name": "stdout",
     "output_type": "stream",
     "text": [
      "<class 'pandas.core.frame.DataFrame'>\n",
      "RangeIndex: 196 entries, 0 to 195\n",
      "Data columns (total 18 columns):\n",
      " #   Column  Non-Null Count  Dtype  \n",
      "---  ------  --------------  -----  \n",
      " 0   mage    196 non-null    int64  \n",
      " 1   meduc   193 non-null    float64\n",
      " 2   monpre  196 non-null    int64  \n",
      " 3   npvis   193 non-null    float64\n",
      " 4   fage    196 non-null    int64  \n",
      " 5   feduc   189 non-null    float64\n",
      " 6   omaps   196 non-null    int64  \n",
      " 7   fmaps   196 non-null    int64  \n",
      " 8   cigs    196 non-null    int64  \n",
      " 9   drink   196 non-null    int64  \n",
      " 10  male    196 non-null    int64  \n",
      " 11  mwhte   196 non-null    int64  \n",
      " 12  mblck   196 non-null    int64  \n",
      " 13  moth    196 non-null    int64  \n",
      " 14  fwhte   196 non-null    int64  \n",
      " 15  fblck   196 non-null    int64  \n",
      " 16  foth    196 non-null    int64  \n",
      " 17  bwght   196 non-null    int64  \n",
      "dtypes: float64(3), int64(15)\n",
      "memory usage: 27.7 KB\n"
     ]
    }
   ],
   "source": [
    "birthdataset.info()"
   ]
  },
  {
   "cell_type": "code",
   "execution_count": 5,
   "id": "aaef9327",
   "metadata": {},
   "outputs": [
    {
     "data": {
      "text/plain": [
       "mage      0\n",
       "meduc     3\n",
       "monpre    0\n",
       "npvis     3\n",
       "fage      0\n",
       "feduc     7\n",
       "omaps     0\n",
       "fmaps     0\n",
       "cigs      0\n",
       "drink     0\n",
       "male      0\n",
       "mwhte     0\n",
       "mblck     0\n",
       "moth      0\n",
       "fwhte     0\n",
       "fblck     0\n",
       "foth      0\n",
       "bwght     0\n",
       "dtype: int64"
      ]
     },
     "execution_count": 5,
     "metadata": {},
     "output_type": "execute_result"
    }
   ],
   "source": [
    "#birthdataset.dtypes\n",
    "birthdataset.isnull().sum()"
   ]
  },
  {
   "cell_type": "code",
   "execution_count": 6,
   "id": "0010de94",
   "metadata": {},
   "outputs": [
    {
     "data": {
      "image/png": "[encoded data removed]",
      "text/plain": [
       "<Figure size 432x288 with 1 Axes>"
      ]
     },
     "metadata": {
      "needs_background": "light"
     },
     "output_type": "display_data"
    }
   ],
   "source": [
    "# developing a scatterplot to see data distribution\n",
    "sns.scatterplot(x = 'meduc', \n",
    "                y    = 'bwght',\n",
    "                data = birthdataset)\n",
    "\n",
    "# Showing the results\n",
    "plt.show()"
   ]
  },
  {
   "cell_type": "code",
   "execution_count": 7,
   "id": "9145ffdd",
   "metadata": {},
   "outputs": [],
   "source": [
    "#Fill missing values with median\n",
    "birthdataset = birthdataset.fillna(birthdataset.median())"
   ]
  },
  {
   "cell_type": "code",
   "execution_count": 8,
   "id": "b1822167",
   "metadata": {},
   "outputs": [
    {
     "data": {
      "image/png": "[encoded data removed]",
      "text/plain": [
       "<Figure size 432x288 with 1 Axes>"
      ]
     },
     "metadata": {
      "needs_background": "light"
     },
     "output_type": "display_data"
    }
   ],
   "source": [
    "# checking if there is a change in distribution after missing record imputation\n",
    "sns.scatterplot(x = 'meduc', \n",
    "                y    = 'bwght',\n",
    "                data = birthdataset)\n",
    "\n",
    "# SHOWing the results\n",
    "plt.show()"
   ]
  },
  {
   "cell_type": "markdown",
   "id": "2da33176",
   "metadata": {},
   "source": [
    "From the visual inspection, there is no change in distribution"
   ]
  },
  {
   "cell_type": "code",
   "execution_count": 9,
   "id": "2627bbac",
   "metadata": {},
   "outputs": [
    {
     "data": {
      "text/plain": [
       "mage      0\n",
       "meduc     0\n",
       "monpre    0\n",
       "npvis     0\n",
       "fage      0\n",
       "feduc     0\n",
       "omaps     0\n",
       "fmaps     0\n",
       "cigs      0\n",
       "drink     0\n",
       "male      0\n",
       "mwhte     0\n",
       "mblck     0\n",
       "moth      0\n",
       "fwhte     0\n",
       "fblck     0\n",
       "foth      0\n",
       "bwght     0\n",
       "dtype: int64"
      ]
     },
     "execution_count": 9,
     "metadata": {},
     "output_type": "execute_result"
    }
   ],
   "source": [
    "#birthdataset.dtypes\n",
    "birthdataset.isnull().sum()"
   ]
  },
  {
   "cell_type": "markdown",
   "id": "63e399e4",
   "metadata": {},
   "source": [
    "Stage Two - The data is further exoplored to check for skeweness before regression modelling. The data is adjusted here for even distribution to aid further data analysis. \n",
    "\n",
    "The dataset is then split into training and testing set for regression analysis"
   ]
  },
  {
   "cell_type": "code",
   "execution_count": 10,
   "id": "b3ad6ed2",
   "metadata": {},
   "outputs": [],
   "source": [
    "#Separate the dataset into feature and target sets\n",
    "features = birthdataset.drop(['bwght'], axis =1)\n",
    "target = birthdataset['bwght']"
   ]
  },
  {
   "cell_type": "code",
   "execution_count": 11,
   "id": "b0468624",
   "metadata": {},
   "outputs": [],
   "source": [
    "#Check for Skewness in the feature set\n",
    "numerical = features.dtypes[features.dtypes != 'object'].index\n",
    "skewness = birthdataset[numerical].apply(lambda x: skew(x.dropna())).sort_values(ascending=False)"
   ]
  },
  {
   "cell_type": "code",
   "execution_count": 12,
   "id": "9e6d1ecc",
   "metadata": {},
   "outputs": [
    {
     "name": "stdout",
     "output_type": "stream",
     "text": [
      "        Skewness\n",
      "npvis   2.209135\n",
      "monpre  2.016275\n",
      "fage    1.111832\n",
      "mwhte   1.033800\n",
      "mage    0.915121\n",
      "foth    0.815455\n",
      "fblck   0.666898\n",
      "moth    0.643120\n",
      "fwhte   0.643120\n",
      "mblck   0.482875\n",
      "drink   0.233074\n",
      "cigs    0.031636\n",
      "meduc  -0.071283\n",
      "male   -0.205152\n",
      "feduc  -1.328265\n",
      "fmaps  -2.531710\n",
      "omaps  -2.620920\n"
     ]
    },
    {
     "data": {
      "text/plain": [
       "True     9\n",
       "False    8\n",
       "dtype: int64"
      ]
     },
     "execution_count": 12,
     "metadata": {},
     "output_type": "execute_result"
    }
   ],
   "source": [
    "#Print number of columns with skewness\n",
    "skewness_df = pd.DataFrame({'Skewness': skewness})\n",
    "print(skewness_df)\n",
    "\n",
    "(abs(skewness) > 0.75).value_counts()"
   ]
  },
  {
   "cell_type": "code",
   "execution_count": 13,
   "id": "e11db7fd",
   "metadata": {},
   "outputs": [
    {
     "data": {
      "text/html": [
       "<div>\n",
       "<style scoped>\n",
       "    .dataframe tbody tr th:only-of-type {\n",
       "        vertical-align: middle;\n",
       "    }\n",
       "\n",
       "    .dataframe tbody tr th {\n",
       "        vertical-align: top;\n",
       "    }\n",
       "\n",
       "    .dataframe thead th {\n",
       "        text-align: right;\n",
       "    }\n",
       "</style>\n",
       "<table border=\"1\" class=\"dataframe\">\n",
       "  <thead>\n",
       "    <tr style=\"text-align: right;\">\n",
       "      <th></th>\n",
       "      <th>OLS</th>\n",
       "      <th>Lasso</th>\n",
       "      <th>ARD</th>\n",
       "      <th>KNN</th>\n",
       "    </tr>\n",
       "  </thead>\n",
       "  <tbody>\n",
       "    <tr>\n",
       "      <th>0</th>\n",
       "      <td>0.661990</td>\n",
       "      <td>0.661398</td>\n",
       "      <td>0.652369</td>\n",
       "      <td>0.528577</td>\n",
       "    </tr>\n",
       "    <tr>\n",
       "      <th>1</th>\n",
       "      <td>0.492236</td>\n",
       "      <td>0.501583</td>\n",
       "      <td>0.542617</td>\n",
       "      <td>0.347888</td>\n",
       "    </tr>\n",
       "  </tbody>\n",
       "</table>\n",
       "</div>"
      ],
      "text/plain": [
       "        OLS     Lasso       ARD       KNN\n",
       "0  0.661990  0.661398  0.652369  0.528577\n",
       "1  0.492236  0.501583  0.542617  0.347888"
      ]
     },
     "execution_count": 13,
     "metadata": {},
     "output_type": "execute_result"
    }
   ],
   "source": [
    "#Treat skewness with Log transformation\n",
    "\n",
    "#Reading dataset\n",
    "birthdataset = pd.read_excel('birthweight_low.xlsx')\n",
    "birthdataset = birthdataset.fillna(birthdataset.median())\n",
    "\n",
    "all_cols = ['monpre', 'omaps', 'fmaps', 'male','mwhte','mblck', 'moth','fwhte','fblck', 'foth',\n",
    "            'mage', 'fage', 'npvis', 'feduc','meduc', 'cigs', 'drink']\n",
    "cont_cols = ['mage', 'fage', 'npvis', 'feduc','meduc', 'cigs', 'drink' ]\n",
    "cat_cols = ['monpre', 'omaps', 'fmaps', 'male','mwhte','mblck', 'moth','fwhte','fblck', 'foth']\n",
    "\n",
    "\n",
    "#converting all continuous columns to log forms\n",
    "log_ordinal = np.log(birthdataset[cont_cols].fillna(0)+1) # 1 is used,incase there is division by 0\n",
    "\n",
    "#creating dataframe that contains only categorical and target variables\n",
    "categorical = birthdataset[cat_cols]\n",
    "target = birthdataset['bwght']\n",
    "\n",
    "#merging dataframe\n",
    "features = pd.concat([log_ordinal, categorical], axis=1)\n",
    "entire = pd.concat([features, target], axis=1)\n",
    "\n",
    "#splitting data into test and train. Train and test the model\n",
    "def test(models, data, iterations = 100):\n",
    "    results = {}\n",
    "    y= entire['bwght']\n",
    "    X= entire.drop(['bwght'], axis =1)\n",
    "    for i in models:\n",
    "        r2_train = []\n",
    "        r2_test = []\n",
    "        for j in range(iterations):\n",
    "            X_train, X_test, y_train, y_test = train_test_split(X, \n",
    "                                                                y, \n",
    "                                                                test_size= 0.25,random_state=219)\n",
    "            r2_test.append(metrics.r2_score(y_test,\n",
    "                                            models[i].fit(X_train, \n",
    "                                                         y_train).predict(X_test)))\n",
    "            r2_train.append(metrics.r2_score(y_train, \n",
    "                                             models[i].fit(X_train, \n",
    "                                                          y_train).predict(X_train)))\n",
    "        results[i] = [np.mean(r2_train), np.mean(r2_test)]\n",
    "        \n",
    "    return pd.DataFrame(results)\n",
    "\n",
    "#checking result for all four models\n",
    "models = {'OLS': linear_model.LinearRegression(),\n",
    "         'Lasso': linear_model.Lasso(),\n",
    "         'ARD': linear_model.ARDRegression(),\n",
    "         'KNN': KNeighborsRegressor(),}\n",
    "\n",
    "\n",
    "\n",
    "test(models, entire)"
   ]
  },
  {
   "cell_type": "markdown",
   "id": "81369b23",
   "metadata": {},
   "source": [
    "From the result above, ARD model gave the best result on the test data. Hyperparameter tuning was done afterwards on the ARD model to see if there would be improvement in the test score. "
   ]
  },
  {
   "cell_type": "code",
   "execution_count": 14,
   "id": "a9b3a141",
   "metadata": {},
   "outputs": [
    {
     "name": "stdout",
     "output_type": "stream",
     "text": [
      " \n",
      "Model Type :    ARDRegression(alpha_1=0.0001, alpha_2=0.0001, lambda_1=0.0001, lambda_2=0.1,\n",
      "              n_iter=1000, tol=100)\n",
      "\n",
      "Training Score: 0.65\n",
      "\n",
      "Testing Score:  0.56\n",
      "\n",
      "Train-Test Gap: 0.09\n",
      "\n"
     ]
    }
   ],
   "source": [
    "#Applying tuned hyperparameters on  log transformed dataset\n",
    "all_cols = ['monpre', 'omaps', 'fmaps', 'male','mwhte','mblck', 'moth','fwhte','fblck', 'foth',\n",
    "            'mage', 'fage', 'npvis', 'feduc','meduc', 'cigs', 'drink']\n",
    "cont_cols = ['mage', 'fage', 'npvis', 'feduc','meduc', 'cigs', 'drink' ]\n",
    "cat_cols = ['monpre', 'omaps', 'fmaps', 'male','mwhte','mblck', 'moth','fwhte','fblck', 'foth']\n",
    "\n",
    "#reading dataset\n",
    "birthdataset = pd.read_excel('birthweight_low.xlsx')\n",
    "birthdataset = birthdataset.fillna(birthdataset.median())\n",
    "\n",
    "log_ordinal = np.log(birthdataset[cont_cols].fillna(0)+1)\n",
    "categorical = birthdataset[cat_cols]\n",
    "target = birthdataset['bwght']\n",
    "birthdataset = pd.concat([log_ordinal, categorical,target], axis=1)\n",
    "\n",
    "#Divide dataset into test and train sets\n",
    "train, test = train_test_split(birthdataset, test_size= 0.25,random_state=219)\n",
    "\n",
    "#Divide train and test datasets into X- and y-variables\n",
    "y_train= train['bwght']\n",
    "X_train= train.drop(['bwght'], axis =1)\n",
    "y_test= test['bwght']\n",
    "X_test= test.drop(['bwght'], axis =1)\n",
    "\n",
    "\n",
    "#Initiate the regression algorithm instance and fit model on train data\n",
    "# Bayesian Automatic Relevance Regression is used here\n",
    "#The hyperparameters were gotten after tuning,this was done using the original dataset\n",
    "#The log data did not yield good result after tuning\n",
    "ARDRegression_model_log_version = linear_model.ARDRegression(tol= 100, normalize= False, n_iter=1000, lambda_2= 0.1, lambda_1=0.0001, \n",
    "                                                 fit_intercept= True, compute_score=False, alpha_2= 0.0001, alpha_1= 0.0001)\n",
    "#Train the algorithm i.e fit a model\n",
    "ARDRegression_model_log_version.fit(X_train, y_train)\n",
    "\n",
    "#Get R squared for both train and test sets\n",
    "training_score = round(float(metrics.r2_score(y_train,ARDRegression_model_log_version.predict(X_train))),2)\n",
    "test_score = round(float(metrics.r2_score(y_test, ARDRegression_model_log_version.predict(X_test))),2)\n",
    "train_test_gap = abs(round((training_score - test_score),2))\n",
    "\n",
    "\n",
    "#Print the required output\n",
    "print(f\"\"\" \n",
    "Model Type :    {ARDRegression_model_log_version}\n",
    "\n",
    "Training Score: {training_score}\n",
    "\n",
    "Testing Score:  {test_score}\n",
    "\n",
    "Train-Test Gap: {train_test_gap}\n",
    "\"\"\")\n"
   ]
  },
  {
   "cell_type": "markdown",
   "id": "2b30edbe",
   "metadata": {},
   "source": [
    "The combination of hyperparameter tuning and natural Log transformation did not achieve the desired result. Box Cox transformation was then used as it yielded better result"
   ]
  },
  {
   "cell_type": "code",
   "execution_count": 15,
   "id": "312a55b8",
   "metadata": {},
   "outputs": [],
   "source": [
    "#Apply transform on the feature columns in the original dataset\n",
    "#Normalise columns with skewness greater than absolute 0.75\n",
    "# Set lambda parameter in the boxcox function to 0.4\n",
    "birthdataset = pd.read_excel('birthweight_low.xlsx')\n",
    "birthdataset = birthdataset.fillna(birthdataset.median())\n",
    "boxcox_features = skewness_df[np.abs(skewness_df['Skewness'])>0.75].index\n",
    "lam = 0.15\n",
    "for col in boxcox_features:\n",
    "    birthdataset.loc[:, col] = boxcox1p(birthdataset[col], lam)\n",
    "\n",
    "#Divide dataset into test and train sets\n",
    "train, test = train_test_split(birthdataset, test_size= 0.25,random_state=219)\n",
    "\n",
    "#Divide train and test datasets into X- and y-variables\n",
    "y_train= train['bwght']\n",
    "X_train= train.drop(['bwght'], axis =1)\n",
    "y_test= test['bwght']\n",
    "X_test= test.drop(['bwght'], axis =1)\n",
    "\n",
    "\n",
    "#Initiate the regression algorithm instance and fit model on train data\n",
    "# Bayesian Automatic Relevance Regression is used here\n",
    "#The hyperparameters were gotten after tuning\n",
    "ARDRegression_model = linear_model.ARDRegression(tol= 100, normalize= False, n_iter=700, lambda_2= 0.01, lambda_1=1e-05, \n",
    "                                                 fit_intercept= True, compute_score=False, alpha_2= 0.0001, alpha_1= 1e-05)\n",
    "#Train the algorithm i.e fit a model\n",
    "ARDRegression_model.fit(X_train, y_train)\n",
    "\n",
    "#Get R squared for both train and test sets\n",
    "training_score = round(float(metrics.r2_score(y_train,ARDRegression_model.predict(X_train))),2)\n",
    "test_score = round(float(metrics.r2_score(y_test, ARDRegression_model.predict(X_test))),2)\n",
    "train_test_gap = abs(round((training_score - test_score),2))\n"
   ]
  },
  {
   "cell_type": "code",
   "execution_count": 16,
   "id": "895ae6e2",
   "metadata": {},
   "outputs": [
    {
     "name": "stdout",
     "output_type": "stream",
     "text": [
      " \n",
      "Model Type :    ARDRegression(alpha_1=1e-05, alpha_2=0.0001, lambda_1=1e-05, lambda_2=0.01,\n",
      "              n_iter=700, tol=100)\n",
      "\n",
      "Training Score: 0.69\n",
      "\n",
      "Testing Score:  0.71\n",
      "\n",
      "Train-Test Gap: 0.02\n",
      "\n"
     ]
    }
   ],
   "source": [
    "#Print the required output\n",
    "print(f\"\"\" \n",
    "Model Type :    {ARDRegression_model}\n",
    "\n",
    "Training Score: {training_score}\n",
    "\n",
    "Testing Score:  {test_score}\n",
    "\n",
    "Train-Test Gap: {train_test_gap}\n",
    "\"\"\")"
   ]
  },
  {
   "cell_type": "code",
   "execution_count": null,
   "id": "0d32d64b",
   "metadata": {},
   "outputs": [],
   "source": []
  }
 ],
 "metadata": {
  "kernelspec": {
   "display_name": "Python 3 (ipykernel)",
   "language": "python",
   "name": "python3"
  },
  "language_info": {
   "codemirror_mode": {
    "name": "ipython",
    "version": 3
   },
   "file_extension": ".py",
   "mimetype": "text/x-python",
   "name": "python",
   "nbconvert_exporter": "python",
   "pygments_lexer": "ipython3",
   "version": "3.8.8"
  },
  "toc": {
   "base_numbering": 1,
   "nav_menu": {},
   "number_sections": true,
   "sideBar": true,
   "skip_h1_title": false,
   "title_cell": "Table of Contents",
   "title_sidebar": "Contents",
   "toc_cell": false,
   "toc_position": {},
   "toc_section_display": true,
   "toc_window_display": false
  },
  "varInspector": {
   "cols": {
    "lenName": 16,
    "lenType": 16,
    "lenVar": 40
   },
   "kernels_config": {
    "python": {
     "delete_cmd_postfix": "",
     "delete_cmd_prefix": "del ",
     "library": "var_list.py",
     "varRefreshCmd": "print(var_dic_list())"
    },
    "r": {
     "delete_cmd_postfix": ") ",
     "delete_cmd_prefix": "rm(",
     "library": "var_list.r",
     "varRefreshCmd": "cat(var_dic_list()) "
    }
   },
   "types_to_exclude": [
    "module",
    "function",
    "builtin_function_or_method",
    "instance",
    "_Feature"
   ],
   "window_display": false
  }
 },
 "nbformat": 4,
 "nbformat_minor": 5
}
